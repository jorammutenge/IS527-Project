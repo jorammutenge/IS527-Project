{
 "cells": [
  {
   "cell_type": "code",
   "execution_count": null,
   "id": "78696d31",
   "metadata": {},
   "outputs": [],
   "source": [
    "#BOSTON LEGAL\n",
    "\n",
    "import re\n",
    "import networkx as nx\n",
    "import matplotlib.pyplot as plt\n",
    "\n",
    "# Read the transcript from a text file\n",
    "with open(\"pdf_script/txt_script/BL01x01.txt\", \"r\") as f:\n",
    "    transcript = f.read()\n",
    "\n",
    "# Find all instances of characters speaking\n",
    "speakers = list(set(re.findall(r\"[A-Z][a-z]* [A-Z][a-z]*:\", transcript)))\n",
    "\n",
    "# Create a graph with each character as a node\n",
    "G = nx.Graph()\n",
    "for speaker in speakers:\n",
    "    G.add_node(speaker)\n",
    "\n",
    "# Find all instances of characters interacting with each other\n",
    "interactions = re.findall(r\"([A-Z][a-z]* [A-Z][a-z]*):(.+?)(?=[A-Z][a-z]* [A-Z][a-z]*:|$)\", transcript, flags=re.DOTALL)\n",
    "\n",
    "# Add edges to the graph for each interaction between characters\n",
    "for interaction in interactions:\n",
    "    speaker1 = interaction[0]\n",
    "    speech = interaction[1].strip()\n",
    "    for speaker2 in speakers:\n",
    "        if speaker2 != speaker1 and speaker2 in speech:\n",
    "            G.add_edge(speaker1, speaker2)\n",
    "\n",
    "# Draw the graph\n",
    "pos = nx.spring_layout(G)\n",
    "nx.draw_networkx_nodes(G, pos, node_size=500)\n",
    "nx.draw_networkx_edges(G, pos, width=2)\n",
    "nx.draw_networkx_labels(G, pos, font_size=12, font_family=\"Arial\")\n",
    "plt.axis(\"off\")\n",
    "plt.show()\n"
   ]
  },
  {
   "cell_type": "code",
   "execution_count": null,
   "id": "e8cbf027",
   "metadata": {},
   "outputs": [],
   "source": []
  },
  {
   "cell_type": "code",
   "execution_count": null,
   "id": "1da2f53f",
   "metadata": {},
   "outputs": [],
   "source": []
  },
  {
   "cell_type": "code",
   "execution_count": null,
   "id": "19cce6b9",
   "metadata": {},
   "outputs": [],
   "source": []
  },
  {
   "cell_type": "code",
   "execution_count": null,
   "id": "b0cfbeea",
   "metadata": {},
   "outputs": [],
   "source": []
  },
  {
   "cell_type": "code",
   "execution_count": null,
   "id": "750b31d2",
   "metadata": {},
   "outputs": [],
   "source": []
  },
  {
   "cell_type": "markdown",
   "id": "34a4b5e2",
   "metadata": {},
   "source": [
    "# Create nodes and edges"
   ]
  },
  {
   "cell_type": "code",
   "execution_count": 12,
   "id": "4722b4fa",
   "metadata": {},
   "outputs": [
    {
     "name": "stdout",
     "output_type": "stream",
     "text": [
      "Nodes: ['ANNOUNCER', 'PAULA', 'OLIVIA', 'NICOLE', 'ARMOND', 'RACHEL', 'BELINDA', 'MARK', 'DILLON', 'LANI', 'SHANE', 'TANYA', 'BOTH', 'DARRELL', 'QUINN', 'CHRISTIE', 'NURSE', 'BARTENDER', 'KITTY', 'LORENZO', 'HUTCH', 'CHARLIE', 'INSTRUCTOR', 'DECKHAND', 'KAI', 'GREG', 'GUEST', 'WAITRESS', 'MOTHER', 'HOUSEKEEPER', 'FACIALIST']\n",
      "Edges: [('PAULA', 'OLIVIA'), ('PAULA', 'TANYA'), ('PAULA', 'KAI'), ('PAULA', 'SHANE'), ('OLIVIA', 'NICOLE'), ('OLIVIA', 'QUINN'), ('OLIVIA', 'MARK'), ('OLIVIA', 'SHANE'), ('NICOLE', 'ARMOND'), ('NICOLE', 'PAULA'), ('NICOLE', 'OLIVIA'), ('NICOLE', 'MARK'), ('NICOLE', 'QUINN'), ('ARMOND', 'LANI'), ('ARMOND', 'NICOLE'), ('ARMOND', 'SHANE'), ('ARMOND', 'KITTY'), ('RACHEL', 'SHANE'), ('RACHEL', 'TANYA'), ('RACHEL', 'BELINDA'), ('RACHEL', 'MOTHER'), ('BELINDA', 'NICOLE'), ('BELINDA', 'LANI'), ('BELINDA', 'TANYA'), ('MARK', 'NICOLE'), ('MARK', 'QUINN'), ('MARK', 'OLIVIA'), ('MARK', 'SHANE'), ('MARK', 'TANYA'), ('DILLON', 'TANYA'), ('LANI', 'ARMOND'), ('LANI', 'BELINDA'), ('SHANE', 'ARMOND'), ('SHANE', 'KITTY'), ('SHANE', 'RACHEL'), ('SHANE', 'TANYA'), ('SHANE', 'MARK'), ('TANYA', 'ARMOND'), ('TANYA', 'LANI'), ('TANYA', 'DILLON'), ('TANYA', 'RACHEL'), ('TANYA', 'BELINDA'), ('TANYA', 'SHANE'), ('TANYA', 'MARK'), ('QUINN', 'ARMOND'), ('QUINN', 'MARK'), ('QUINN', 'NICOLE'), ('KITTY', 'SHANE'), ('KITTY', 'DILLON'), ('DECKHAND', 'DILLON'), ('KAI', 'PAULA'), ('KAI', 'NICOLE'), ('GREG', 'TANYA')]\n"
     ]
    }
   ],
   "source": [
    "import networkx as nx\n",
    "import re\n",
    "import os\n",
    "\n",
    "# Initialize a directed graph\n",
    "G = nx.DiGraph()\n",
    "\n",
    "# Directory where the txt files are located\n",
    "folder = 'white_lotus'\n",
    "\n",
    "# Loop through all the txt files in the folder\n",
    "for filename in os.listdir(folder):\n",
    "    if filename.endswith('.txt'):\n",
    "        # Open the file and read the lines\n",
    "        with open(os.path.join(folder, filename), 'r', encoding='utf-8') as f:\n",
    "            lines = f.readlines()\n",
    "\n",
    "        # Loop through the lines and extract the speaker information\n",
    "        for i in range(len(lines)):\n",
    "            line = lines[i].strip()\n",
    "\n",
    "            # Check if the line is a dialogue line\n",
    "            if re.match('^[A-Z]+:', line):\n",
    "                # Extract the speaker and the dialogue\n",
    "                result = re.findall('^([A-Z]+): (.+)$', line)\n",
    "                if result:\n",
    "                    speaker, dialogue = result[0]\n",
    "\n",
    "                    # Add the speaker as a node if it doesn't exist already\n",
    "                    if not G.has_node(speaker):\n",
    "                        G.add_node(speaker)\n",
    "\n",
    "                    # Check the next few lines to see who responds to the speaker\n",
    "                    for j in range(i+1, min(i+4, len(lines))):\n",
    "                        next_line = lines[j].strip()\n",
    "                        if re.match('^[A-Z]+:', next_line):\n",
    "                            next_speaker_result = re.findall('^([A-Z]+):', next_line)\n",
    "                            if next_speaker_result:\n",
    "                                next_speaker = next_speaker_result[0]\n",
    "                                # Add an edge from the speaker to the responder\n",
    "                                if next_speaker != speaker:\n",
    "                                    G.add_edge(speaker, next_speaker)\n",
    "                                break\n",
    "\n",
    "# Print the nodes and edges in the graph\n",
    "print('Nodes:', G.nodes())\n",
    "print('Edges:', G.edges())\n"
   ]
  },
  {
   "cell_type": "code",
   "execution_count": 23,
   "id": "e14eb71b",
   "metadata": {
    "scrolled": false
   },
   "outputs": [
    {
     "data": {
      "application/vnd.plotly.v1+json": {
       "config": {
        "plotlyServerURL": "https://plot.ly"
       },
       "data": [
        {
         "hoverinfo": "none",
         "line": {
          "color": "grey",
          "width": 1
         },
         "mode": "lines",
         "type": "scatter",
         "x": [
          0.9795299171442066,
          0.9189578290955861,
          null,
          0.9795299171442066,
          -0.6121060923789943,
          null,
          0.9795299171442066,
          0.15142759283051327,
          null,
          0.9795299171442066,
          -0.4403941698823452,
          null,
          0.9189578290955861,
          0.8207634679023507,
          null,
          0.9189578290955861,
          -0.9541392417938754,
          null,
          0.9189578290955861,
          0.15142777164444846,
          null,
          0.9189578290955861,
          -0.4403941698823452,
          null,
          0.8207634679023507,
          0.6889668688502172,
          null,
          0.8207634679023507,
          0.9795299171442066,
          null,
          0.8207634679023507,
          0.9189578290955861,
          null,
          0.8207634679023507,
          0.15142777164444846,
          null,
          0.8207634679023507,
          -0.9541392417938754,
          null,
          0.6889668688502172,
          -0.2506525277100562,
          null,
          0.6889668688502172,
          0.8207634679023507,
          null,
          0.6889668688502172,
          -0.4403941698823452,
          null,
          0.6889668688502172,
          -0.874346622668389,
          null,
          0.5289639808513459,
          -0.4403941698823452,
          null,
          0.5289639808513459,
          -0.6121060923789943,
          null,
          0.5289639808513459,
          0.3473052947926072,
          null,
          0.5289639808513459,
          0.8207634679023507,
          null,
          0.3473052947926072,
          0.8207634679023507,
          null,
          0.3473052947926072,
          -0.2506525277100562,
          null,
          0.3473052947926072,
          -0.6121060923789943,
          null,
          0.15142777164444846,
          0.8207634679023507,
          null,
          0.15142777164444846,
          -0.9541392417938754,
          null,
          0.15142777164444846,
          0.9189578290955861,
          null,
          0.15142777164444846,
          -0.4403941698823452,
          null,
          0.15142777164444846,
          -0.6121060923789943,
          null,
          -0.05064923063585354,
          -0.6121060923789943,
          null,
          -0.2506525277100562,
          0.6889668688502172,
          null,
          -0.2506525277100562,
          0.3473052947926072,
          null,
          -0.4403941698823452,
          0.6889668688502172,
          null,
          -0.4403941698823452,
          -0.874346622668389,
          null,
          -0.4403941698823452,
          0.5289639808513459,
          null,
          -0.4403941698823452,
          -0.6121060923789943,
          null,
          -0.4403941698823452,
          0.15142777164444846,
          null,
          -0.6121060923789943,
          0.6889668688502172,
          null,
          -0.6121060923789943,
          -0.2506525277100562,
          null,
          -0.6121060923789943,
          -0.05064923063585354,
          null,
          -0.6121060923789943,
          0.5289639808513459,
          null,
          -0.6121060923789943,
          0.3473052947926072,
          null,
          -0.6121060923789943,
          -0.4403941698823452,
          null,
          -0.6121060923789943,
          0.15142777164444846,
          null,
          -0.9541392417938754,
          0.6889668688502172,
          null,
          -0.9541392417938754,
          0.15142777164444846,
          null,
          -0.9541392417938754,
          0.8207634679023507,
          null,
          -0.874346622668389,
          -0.4403941698823452,
          null,
          -0.874346622668389,
          -0.05064923063585354,
          null,
          -0.05064893633791858,
          -0.05064923063585354,
          null,
          0.15142759283051327,
          0.9795299171442066,
          null,
          0.15142759283051327,
          0.8207634679023507,
          null,
          0.34730511597867203,
          -0.6121060923789943,
          null
         ],
         "y": [
          0.20129852571922954,
          0.3943558699877847,
          null,
          0.20129852571922954,
          0.7907756652130535,
          null,
          0.20129852571922954,
          -0.9884683488057344,
          null,
          0.20129852571922954,
          0.8978045076870119,
          null,
          0.3943558699877847,
          0.571268208358492,
          null,
          0.3943558699877847,
          0.2993631126990195,
          null,
          0.3943558699877847,
          0.9884683584193867,
          null,
          0.3943558699877847,
          0.8978045076870119,
          null,
          0.571268208358492,
          0.7247928463002992,
          null,
          0.571268208358492,
          0.20129852571922954,
          null,
          0.571268208358492,
          0.3943558699877847,
          null,
          0.571268208358492,
          0.9884683584193867,
          null,
          0.571268208358492,
          0.2993631126990195,
          null,
          0.7247928463002992,
          0.9680771325090007,
          null,
          0.7247928463002992,
          0.571268208358492,
          null,
          0.7247928463002992,
          0.8978045076870119,
          null,
          0.7247928463002992,
          -0.48530190929851874,
          null,
          0.8486442653759263,
          0.8978045076870119,
          null,
          0.8486442653759263,
          0.7907756652130535,
          null,
          0.8486442653759263,
          0.9377521368491473,
          null,
          0.8486442653759263,
          -0.5712681987448397,
          null,
          0.9377521368491473,
          0.571268208358492,
          null,
          0.9377521368491473,
          0.9680771325090007,
          null,
          0.9377521368491473,
          0.7907756652130535,
          null,
          0.9884683584193867,
          0.571268208358492,
          null,
          0.9884683584193867,
          0.2993631126990195,
          null,
          0.9884683584193867,
          0.3943558699877847,
          null,
          0.9884683584193867,
          0.8978045076870119,
          null,
          0.9884683584193867,
          0.7907756652130535,
          null,
          0.998716542671518,
          0.7907756652130535,
          null,
          0.9680771325090007,
          0.7247928463002992,
          null,
          0.9680771325090007,
          0.9377521368491473,
          null,
          0.8978045076870119,
          0.7247928463002992,
          null,
          0.8978045076870119,
          -0.48530190929851874,
          null,
          0.8978045076870119,
          0.8486442653759263,
          null,
          0.8978045076870119,
          0.7907756652130535,
          null,
          0.8978045076870119,
          0.9884683584193867,
          null,
          0.7907756652130535,
          0.7247928463002992,
          null,
          0.7907756652130535,
          0.9680771325090007,
          null,
          0.7907756652130535,
          0.998716542671518,
          null,
          0.7907756652130535,
          0.8486442653759263,
          null,
          0.7907756652130535,
          0.9377521368491473,
          null,
          0.7907756652130535,
          0.8978045076870119,
          null,
          0.7907756652130535,
          0.9884683584193867,
          null,
          0.2993631126990195,
          0.7247928463002992,
          null,
          0.2993631126990195,
          0.9884683584193867,
          null,
          0.2993631126990195,
          0.571268208358492,
          null,
          -0.48530190929851874,
          0.8978045076870119,
          null,
          -0.48530190929851874,
          0.998716542671518,
          null,
          -0.9987165330578657,
          0.998716542671518,
          null,
          -0.9884683488057344,
          0.20129852571922954,
          null,
          -0.9884683488057344,
          0.571268208358492,
          null,
          -0.93775218684014,
          0.7907756652130535,
          null
         ]
        },
        {
         "hoverinfo": "text",
         "marker": {
          "color": "lightblue",
          "size": 30
         },
         "mode": "markers+text",
         "text": [
          "ANNOUNCER",
          "PAULA",
          "OLIVIA",
          "NICOLE",
          "ARMOND",
          "RACHEL",
          "BELINDA",
          "MARK",
          "DILLON",
          "LANI",
          "SHANE",
          "TANYA",
          "BOTH",
          "DARRELL",
          "QUINN",
          "CHRISTIE",
          "NURSE",
          "BARTENDER",
          "KITTY",
          "LORENZO",
          "HUTCH",
          "CHARLIE",
          "INSTRUCTOR",
          "DECKHAND",
          "KAI",
          "GREG",
          "GUEST",
          "WAITRESS",
          "MOTHER",
          "HOUSEKEEPER",
          "FACIALIST"
         ],
         "textposition": "top center",
         "type": "scatter",
         "x": [
          1,
          0.9795299171442066,
          0.9189578290955861,
          0.8207634679023507,
          0.6889668688502172,
          0.5289639808513459,
          0.3473052947926072,
          0.15142777164444846,
          -0.05064923063585354,
          -0.2506525277100562,
          -0.4403941698823452,
          -0.6121060923789943,
          -0.75875807632741,
          -0.874346563063744,
          -0.9541392417938754,
          -0.9948693607362894,
          -0.9948693011316443,
          -0.9541393013985205,
          -0.874346622668389,
          -0.7587581359320551,
          -0.6121059135650592,
          -0.4403940506730551,
          -0.25065237869844353,
          -0.05064893633791858,
          0.15142759283051327,
          0.34730511597867203,
          0.5289639212467008,
          0.6889668688502172,
          0.8207634679023507,
          0.9189578290955861,
          0.9795299767488517
         ],
         "y": [
          4.806826214091698e-09,
          0.20129852571922954,
          0.3943558699877847,
          0.571268208358492,
          0.7247928463002992,
          0.8486442653759263,
          0.9377521368491473,
          0.9884683584193867,
          0.998716542671518,
          0.9680771325090007,
          0.8978045076870119,
          0.7907756652130535,
          0.6513725597776148,
          0.48530203812146133,
          0.2993631126990195,
          0.10116826525926137,
          -0.10116843445954411,
          -0.29936304348072196,
          -0.48530190929851874,
          -0.6513724905593173,
          -0.7907757748086913,
          -0.8978046172826497,
          -0.9680771824999934,
          -0.9987165330578657,
          -0.9884683488057344,
          -0.93775218684014,
          -0.848644315366919,
          -0.7247928366866468,
          -0.5712681987448397,
          -0.3943557709671647,
          -0.201298396896287
         ]
        }
       ],
       "layout": {
        "hovermode": "closest",
        "margin": {
         "b": 20,
         "l": 5,
         "r": 5,
         "t": 40
        },
        "showlegend": false,
        "template": {
         "data": {
          "bar": [
           {
            "error_x": {
             "color": "#2a3f5f"
            },
            "error_y": {
             "color": "#2a3f5f"
            },
            "marker": {
             "line": {
              "color": "#E5ECF6",
              "width": 0.5
             },
             "pattern": {
              "fillmode": "overlay",
              "size": 10,
              "solidity": 0.2
             }
            },
            "type": "bar"
           }
          ],
          "barpolar": [
           {
            "marker": {
             "line": {
              "color": "#E5ECF6",
              "width": 0.5
             },
             "pattern": {
              "fillmode": "overlay",
              "size": 10,
              "solidity": 0.2
             }
            },
            "type": "barpolar"
           }
          ],
          "carpet": [
           {
            "aaxis": {
             "endlinecolor": "#2a3f5f",
             "gridcolor": "white",
             "linecolor": "white",
             "minorgridcolor": "white",
             "startlinecolor": "#2a3f5f"
            },
            "baxis": {
             "endlinecolor": "#2a3f5f",
             "gridcolor": "white",
             "linecolor": "white",
             "minorgridcolor": "white",
             "startlinecolor": "#2a3f5f"
            },
            "type": "carpet"
           }
          ],
          "choropleth": [
           {
            "colorbar": {
             "outlinewidth": 0,
             "ticks": ""
            },
            "type": "choropleth"
           }
          ],
          "contour": [
           {
            "colorbar": {
             "outlinewidth": 0,
             "ticks": ""
            },
            "colorscale": [
             [
              0,
              "#0d0887"
             ],
             [
              0.1111111111111111,
              "#46039f"
             ],
             [
              0.2222222222222222,
              "#7201a8"
             ],
             [
              0.3333333333333333,
              "#9c179e"
             ],
             [
              0.4444444444444444,
              "#bd3786"
             ],
             [
              0.5555555555555556,
              "#d8576b"
             ],
             [
              0.6666666666666666,
              "#ed7953"
             ],
             [
              0.7777777777777778,
              "#fb9f3a"
             ],
             [
              0.8888888888888888,
              "#fdca26"
             ],
             [
              1,
              "#f0f921"
             ]
            ],
            "type": "contour"
           }
          ],
          "contourcarpet": [
           {
            "colorbar": {
             "outlinewidth": 0,
             "ticks": ""
            },
            "type": "contourcarpet"
           }
          ],
          "heatmap": [
           {
            "colorbar": {
             "outlinewidth": 0,
             "ticks": ""
            },
            "colorscale": [
             [
              0,
              "#0d0887"
             ],
             [
              0.1111111111111111,
              "#46039f"
             ],
             [
              0.2222222222222222,
              "#7201a8"
             ],
             [
              0.3333333333333333,
              "#9c179e"
             ],
             [
              0.4444444444444444,
              "#bd3786"
             ],
             [
              0.5555555555555556,
              "#d8576b"
             ],
             [
              0.6666666666666666,
              "#ed7953"
             ],
             [
              0.7777777777777778,
              "#fb9f3a"
             ],
             [
              0.8888888888888888,
              "#fdca26"
             ],
             [
              1,
              "#f0f921"
             ]
            ],
            "type": "heatmap"
           }
          ],
          "heatmapgl": [
           {
            "colorbar": {
             "outlinewidth": 0,
             "ticks": ""
            },
            "colorscale": [
             [
              0,
              "#0d0887"
             ],
             [
              0.1111111111111111,
              "#46039f"
             ],
             [
              0.2222222222222222,
              "#7201a8"
             ],
             [
              0.3333333333333333,
              "#9c179e"
             ],
             [
              0.4444444444444444,
              "#bd3786"
             ],
             [
              0.5555555555555556,
              "#d8576b"
             ],
             [
              0.6666666666666666,
              "#ed7953"
             ],
             [
              0.7777777777777778,
              "#fb9f3a"
             ],
             [
              0.8888888888888888,
              "#fdca26"
             ],
             [
              1,
              "#f0f921"
             ]
            ],
            "type": "heatmapgl"
           }
          ],
          "histogram": [
           {
            "marker": {
             "pattern": {
              "fillmode": "overlay",
              "size": 10,
              "solidity": 0.2
             }
            },
            "type": "histogram"
           }
          ],
          "histogram2d": [
           {
            "colorbar": {
             "outlinewidth": 0,
             "ticks": ""
            },
            "colorscale": [
             [
              0,
              "#0d0887"
             ],
             [
              0.1111111111111111,
              "#46039f"
             ],
             [
              0.2222222222222222,
              "#7201a8"
             ],
             [
              0.3333333333333333,
              "#9c179e"
             ],
             [
              0.4444444444444444,
              "#bd3786"
             ],
             [
              0.5555555555555556,
              "#d8576b"
             ],
             [
              0.6666666666666666,
              "#ed7953"
             ],
             [
              0.7777777777777778,
              "#fb9f3a"
             ],
             [
              0.8888888888888888,
              "#fdca26"
             ],
             [
              1,
              "#f0f921"
             ]
            ],
            "type": "histogram2d"
           }
          ],
          "histogram2dcontour": [
           {
            "colorbar": {
             "outlinewidth": 0,
             "ticks": ""
            },
            "colorscale": [
             [
              0,
              "#0d0887"
             ],
             [
              0.1111111111111111,
              "#46039f"
             ],
             [
              0.2222222222222222,
              "#7201a8"
             ],
             [
              0.3333333333333333,
              "#9c179e"
             ],
             [
              0.4444444444444444,
              "#bd3786"
             ],
             [
              0.5555555555555556,
              "#d8576b"
             ],
             [
              0.6666666666666666,
              "#ed7953"
             ],
             [
              0.7777777777777778,
              "#fb9f3a"
             ],
             [
              0.8888888888888888,
              "#fdca26"
             ],
             [
              1,
              "#f0f921"
             ]
            ],
            "type": "histogram2dcontour"
           }
          ],
          "mesh3d": [
           {
            "colorbar": {
             "outlinewidth": 0,
             "ticks": ""
            },
            "type": "mesh3d"
           }
          ],
          "parcoords": [
           {
            "line": {
             "colorbar": {
              "outlinewidth": 0,
              "ticks": ""
             }
            },
            "type": "parcoords"
           }
          ],
          "pie": [
           {
            "automargin": true,
            "type": "pie"
           }
          ],
          "scatter": [
           {
            "fillpattern": {
             "fillmode": "overlay",
             "size": 10,
             "solidity": 0.2
            },
            "type": "scatter"
           }
          ],
          "scatter3d": [
           {
            "line": {
             "colorbar": {
              "outlinewidth": 0,
              "ticks": ""
             }
            },
            "marker": {
             "colorbar": {
              "outlinewidth": 0,
              "ticks": ""
             }
            },
            "type": "scatter3d"
           }
          ],
          "scattercarpet": [
           {
            "marker": {
             "colorbar": {
              "outlinewidth": 0,
              "ticks": ""
             }
            },
            "type": "scattercarpet"
           }
          ],
          "scattergeo": [
           {
            "marker": {
             "colorbar": {
              "outlinewidth": 0,
              "ticks": ""
             }
            },
            "type": "scattergeo"
           }
          ],
          "scattergl": [
           {
            "marker": {
             "colorbar": {
              "outlinewidth": 0,
              "ticks": ""
             }
            },
            "type": "scattergl"
           }
          ],
          "scattermapbox": [
           {
            "marker": {
             "colorbar": {
              "outlinewidth": 0,
              "ticks": ""
             }
            },
            "type": "scattermapbox"
           }
          ],
          "scatterpolar": [
           {
            "marker": {
             "colorbar": {
              "outlinewidth": 0,
              "ticks": ""
             }
            },
            "type": "scatterpolar"
           }
          ],
          "scatterpolargl": [
           {
            "marker": {
             "colorbar": {
              "outlinewidth": 0,
              "ticks": ""
             }
            },
            "type": "scatterpolargl"
           }
          ],
          "scatterternary": [
           {
            "marker": {
             "colorbar": {
              "outlinewidth": 0,
              "ticks": ""
             }
            },
            "type": "scatterternary"
           }
          ],
          "surface": [
           {
            "colorbar": {
             "outlinewidth": 0,
             "ticks": ""
            },
            "colorscale": [
             [
              0,
              "#0d0887"
             ],
             [
              0.1111111111111111,
              "#46039f"
             ],
             [
              0.2222222222222222,
              "#7201a8"
             ],
             [
              0.3333333333333333,
              "#9c179e"
             ],
             [
              0.4444444444444444,
              "#bd3786"
             ],
             [
              0.5555555555555556,
              "#d8576b"
             ],
             [
              0.6666666666666666,
              "#ed7953"
             ],
             [
              0.7777777777777778,
              "#fb9f3a"
             ],
             [
              0.8888888888888888,
              "#fdca26"
             ],
             [
              1,
              "#f0f921"
             ]
            ],
            "type": "surface"
           }
          ],
          "table": [
           {
            "cells": {
             "fill": {
              "color": "#EBF0F8"
             },
             "line": {
              "color": "white"
             }
            },
            "header": {
             "fill": {
              "color": "#C8D4E3"
             },
             "line": {
              "color": "white"
             }
            },
            "type": "table"
           }
          ]
         },
         "layout": {
          "annotationdefaults": {
           "arrowcolor": "#2a3f5f",
           "arrowhead": 0,
           "arrowwidth": 1
          },
          "autotypenumbers": "strict",
          "coloraxis": {
           "colorbar": {
            "outlinewidth": 0,
            "ticks": ""
           }
          },
          "colorscale": {
           "diverging": [
            [
             0,
             "#8e0152"
            ],
            [
             0.1,
             "#c51b7d"
            ],
            [
             0.2,
             "#de77ae"
            ],
            [
             0.3,
             "#f1b6da"
            ],
            [
             0.4,
             "#fde0ef"
            ],
            [
             0.5,
             "#f7f7f7"
            ],
            [
             0.6,
             "#e6f5d0"
            ],
            [
             0.7,
             "#b8e186"
            ],
            [
             0.8,
             "#7fbc41"
            ],
            [
             0.9,
             "#4d9221"
            ],
            [
             1,
             "#276419"
            ]
           ],
           "sequential": [
            [
             0,
             "#0d0887"
            ],
            [
             0.1111111111111111,
             "#46039f"
            ],
            [
             0.2222222222222222,
             "#7201a8"
            ],
            [
             0.3333333333333333,
             "#9c179e"
            ],
            [
             0.4444444444444444,
             "#bd3786"
            ],
            [
             0.5555555555555556,
             "#d8576b"
            ],
            [
             0.6666666666666666,
             "#ed7953"
            ],
            [
             0.7777777777777778,
             "#fb9f3a"
            ],
            [
             0.8888888888888888,
             "#fdca26"
            ],
            [
             1,
             "#f0f921"
            ]
           ],
           "sequentialminus": [
            [
             0,
             "#0d0887"
            ],
            [
             0.1111111111111111,
             "#46039f"
            ],
            [
             0.2222222222222222,
             "#7201a8"
            ],
            [
             0.3333333333333333,
             "#9c179e"
            ],
            [
             0.4444444444444444,
             "#bd3786"
            ],
            [
             0.5555555555555556,
             "#d8576b"
            ],
            [
             0.6666666666666666,
             "#ed7953"
            ],
            [
             0.7777777777777778,
             "#fb9f3a"
            ],
            [
             0.8888888888888888,
             "#fdca26"
            ],
            [
             1,
             "#f0f921"
            ]
           ]
          },
          "colorway": [
           "#636efa",
           "#EF553B",
           "#00cc96",
           "#ab63fa",
           "#FFA15A",
           "#19d3f3",
           "#FF6692",
           "#B6E880",
           "#FF97FF",
           "#FECB52"
          ],
          "font": {
           "color": "#2a3f5f"
          },
          "geo": {
           "bgcolor": "white",
           "lakecolor": "white",
           "landcolor": "#E5ECF6",
           "showlakes": true,
           "showland": true,
           "subunitcolor": "white"
          },
          "hoverlabel": {
           "align": "left"
          },
          "hovermode": "closest",
          "mapbox": {
           "style": "light"
          },
          "paper_bgcolor": "white",
          "plot_bgcolor": "#E5ECF6",
          "polar": {
           "angularaxis": {
            "gridcolor": "white",
            "linecolor": "white",
            "ticks": ""
           },
           "bgcolor": "#E5ECF6",
           "radialaxis": {
            "gridcolor": "white",
            "linecolor": "white",
            "ticks": ""
           }
          },
          "scene": {
           "xaxis": {
            "backgroundcolor": "#E5ECF6",
            "gridcolor": "white",
            "gridwidth": 2,
            "linecolor": "white",
            "showbackground": true,
            "ticks": "",
            "zerolinecolor": "white"
           },
           "yaxis": {
            "backgroundcolor": "#E5ECF6",
            "gridcolor": "white",
            "gridwidth": 2,
            "linecolor": "white",
            "showbackground": true,
            "ticks": "",
            "zerolinecolor": "white"
           },
           "zaxis": {
            "backgroundcolor": "#E5ECF6",
            "gridcolor": "white",
            "gridwidth": 2,
            "linecolor": "white",
            "showbackground": true,
            "ticks": "",
            "zerolinecolor": "white"
           }
          },
          "shapedefaults": {
           "line": {
            "color": "#2a3f5f"
           }
          },
          "ternary": {
           "aaxis": {
            "gridcolor": "white",
            "linecolor": "white",
            "ticks": ""
           },
           "baxis": {
            "gridcolor": "white",
            "linecolor": "white",
            "ticks": ""
           },
           "bgcolor": "#E5ECF6",
           "caxis": {
            "gridcolor": "white",
            "linecolor": "white",
            "ticks": ""
           }
          },
          "title": {
           "x": 0.05
          },
          "xaxis": {
           "automargin": true,
           "gridcolor": "white",
           "linecolor": "white",
           "ticks": "",
           "title": {
            "standoff": 15
           },
           "zerolinecolor": "white",
           "zerolinewidth": 2
          },
          "yaxis": {
           "automargin": true,
           "gridcolor": "white",
           "linecolor": "white",
           "ticks": "",
           "title": {
            "standoff": 15
           },
           "zerolinecolor": "white",
           "zerolinewidth": 2
          }
         }
        },
        "title": {
         "font": {
          "size": 16
         },
         "text": "The White Lotus Network"
        }
       }
      },
      "text/html": [
       "<div>                            <div id=\"a6414509-5886-4919-9977-43c0b34273d1\" class=\"plotly-graph-div\" style=\"height:525px; width:100%;\"></div>            <script type=\"text/javascript\">                require([\"plotly\"], function(Plotly) {                    window.PLOTLYENV=window.PLOTLYENV || {};                                    if (document.getElementById(\"a6414509-5886-4919-9977-43c0b34273d1\")) {                    Plotly.newPlot(                        \"a6414509-5886-4919-9977-43c0b34273d1\",                        [{\"hoverinfo\":\"none\",\"line\":{\"color\":\"grey\",\"width\":1},\"mode\":\"lines\",\"x\":[0.9795299171442066,0.9189578290955861,null,0.9795299171442066,-0.6121060923789943,null,0.9795299171442066,0.15142759283051327,null,0.9795299171442066,-0.4403941698823452,null,0.9189578290955861,0.8207634679023507,null,0.9189578290955861,-0.9541392417938754,null,0.9189578290955861,0.15142777164444846,null,0.9189578290955861,-0.4403941698823452,null,0.8207634679023507,0.6889668688502172,null,0.8207634679023507,0.9795299171442066,null,0.8207634679023507,0.9189578290955861,null,0.8207634679023507,0.15142777164444846,null,0.8207634679023507,-0.9541392417938754,null,0.6889668688502172,-0.2506525277100562,null,0.6889668688502172,0.8207634679023507,null,0.6889668688502172,-0.4403941698823452,null,0.6889668688502172,-0.874346622668389,null,0.5289639808513459,-0.4403941698823452,null,0.5289639808513459,-0.6121060923789943,null,0.5289639808513459,0.3473052947926072,null,0.5289639808513459,0.8207634679023507,null,0.3473052947926072,0.8207634679023507,null,0.3473052947926072,-0.2506525277100562,null,0.3473052947926072,-0.6121060923789943,null,0.15142777164444846,0.8207634679023507,null,0.15142777164444846,-0.9541392417938754,null,0.15142777164444846,0.9189578290955861,null,0.15142777164444846,-0.4403941698823452,null,0.15142777164444846,-0.6121060923789943,null,-0.05064923063585354,-0.6121060923789943,null,-0.2506525277100562,0.6889668688502172,null,-0.2506525277100562,0.3473052947926072,null,-0.4403941698823452,0.6889668688502172,null,-0.4403941698823452,-0.874346622668389,null,-0.4403941698823452,0.5289639808513459,null,-0.4403941698823452,-0.6121060923789943,null,-0.4403941698823452,0.15142777164444846,null,-0.6121060923789943,0.6889668688502172,null,-0.6121060923789943,-0.2506525277100562,null,-0.6121060923789943,-0.05064923063585354,null,-0.6121060923789943,0.5289639808513459,null,-0.6121060923789943,0.3473052947926072,null,-0.6121060923789943,-0.4403941698823452,null,-0.6121060923789943,0.15142777164444846,null,-0.9541392417938754,0.6889668688502172,null,-0.9541392417938754,0.15142777164444846,null,-0.9541392417938754,0.8207634679023507,null,-0.874346622668389,-0.4403941698823452,null,-0.874346622668389,-0.05064923063585354,null,-0.05064893633791858,-0.05064923063585354,null,0.15142759283051327,0.9795299171442066,null,0.15142759283051327,0.8207634679023507,null,0.34730511597867203,-0.6121060923789943,null],\"y\":[0.20129852571922954,0.3943558699877847,null,0.20129852571922954,0.7907756652130535,null,0.20129852571922954,-0.9884683488057344,null,0.20129852571922954,0.8978045076870119,null,0.3943558699877847,0.571268208358492,null,0.3943558699877847,0.2993631126990195,null,0.3943558699877847,0.9884683584193867,null,0.3943558699877847,0.8978045076870119,null,0.571268208358492,0.7247928463002992,null,0.571268208358492,0.20129852571922954,null,0.571268208358492,0.3943558699877847,null,0.571268208358492,0.9884683584193867,null,0.571268208358492,0.2993631126990195,null,0.7247928463002992,0.9680771325090007,null,0.7247928463002992,0.571268208358492,null,0.7247928463002992,0.8978045076870119,null,0.7247928463002992,-0.48530190929851874,null,0.8486442653759263,0.8978045076870119,null,0.8486442653759263,0.7907756652130535,null,0.8486442653759263,0.9377521368491473,null,0.8486442653759263,-0.5712681987448397,null,0.9377521368491473,0.571268208358492,null,0.9377521368491473,0.9680771325090007,null,0.9377521368491473,0.7907756652130535,null,0.9884683584193867,0.571268208358492,null,0.9884683584193867,0.2993631126990195,null,0.9884683584193867,0.3943558699877847,null,0.9884683584193867,0.8978045076870119,null,0.9884683584193867,0.7907756652130535,null,0.998716542671518,0.7907756652130535,null,0.9680771325090007,0.7247928463002992,null,0.9680771325090007,0.9377521368491473,null,0.8978045076870119,0.7247928463002992,null,0.8978045076870119,-0.48530190929851874,null,0.8978045076870119,0.8486442653759263,null,0.8978045076870119,0.7907756652130535,null,0.8978045076870119,0.9884683584193867,null,0.7907756652130535,0.7247928463002992,null,0.7907756652130535,0.9680771325090007,null,0.7907756652130535,0.998716542671518,null,0.7907756652130535,0.8486442653759263,null,0.7907756652130535,0.9377521368491473,null,0.7907756652130535,0.8978045076870119,null,0.7907756652130535,0.9884683584193867,null,0.2993631126990195,0.7247928463002992,null,0.2993631126990195,0.9884683584193867,null,0.2993631126990195,0.571268208358492,null,-0.48530190929851874,0.8978045076870119,null,-0.48530190929851874,0.998716542671518,null,-0.9987165330578657,0.998716542671518,null,-0.9884683488057344,0.20129852571922954,null,-0.9884683488057344,0.571268208358492,null,-0.93775218684014,0.7907756652130535,null],\"type\":\"scatter\"},{\"hoverinfo\":\"text\",\"marker\":{\"color\":\"lightblue\",\"size\":30},\"mode\":\"markers+text\",\"text\":[\"ANNOUNCER\",\"PAULA\",\"OLIVIA\",\"NICOLE\",\"ARMOND\",\"RACHEL\",\"BELINDA\",\"MARK\",\"DILLON\",\"LANI\",\"SHANE\",\"TANYA\",\"BOTH\",\"DARRELL\",\"QUINN\",\"CHRISTIE\",\"NURSE\",\"BARTENDER\",\"KITTY\",\"LORENZO\",\"HUTCH\",\"CHARLIE\",\"INSTRUCTOR\",\"DECKHAND\",\"KAI\",\"GREG\",\"GUEST\",\"WAITRESS\",\"MOTHER\",\"HOUSEKEEPER\",\"FACIALIST\"],\"textposition\":\"top center\",\"x\":[1.0,0.9795299171442066,0.9189578290955861,0.8207634679023507,0.6889668688502172,0.5289639808513459,0.3473052947926072,0.15142777164444846,-0.05064923063585354,-0.2506525277100562,-0.4403941698823452,-0.6121060923789943,-0.75875807632741,-0.874346563063744,-0.9541392417938754,-0.9948693607362894,-0.9948693011316443,-0.9541393013985205,-0.874346622668389,-0.7587581359320551,-0.6121059135650592,-0.4403940506730551,-0.25065237869844353,-0.05064893633791858,0.15142759283051327,0.34730511597867203,0.5289639212467008,0.6889668688502172,0.8207634679023507,0.9189578290955861,0.9795299767488517],\"y\":[4.806826214091698e-09,0.20129852571922954,0.3943558699877847,0.571268208358492,0.7247928463002992,0.8486442653759263,0.9377521368491473,0.9884683584193867,0.998716542671518,0.9680771325090007,0.8978045076870119,0.7907756652130535,0.6513725597776148,0.48530203812146133,0.2993631126990195,0.10116826525926137,-0.10116843445954411,-0.29936304348072196,-0.48530190929851874,-0.6513724905593173,-0.7907757748086913,-0.8978046172826497,-0.9680771824999934,-0.9987165330578657,-0.9884683488057344,-0.93775218684014,-0.848644315366919,-0.7247928366866468,-0.5712681987448397,-0.3943557709671647,-0.201298396896287],\"type\":\"scatter\"}],                        {\"hovermode\":\"closest\",\"margin\":{\"b\":20,\"l\":5,\"r\":5,\"t\":40},\"showlegend\":false,\"title\":{\"font\":{\"size\":16},\"text\":\"The White Lotus Network\"},\"template\":{\"data\":{\"histogram2dcontour\":[{\"type\":\"histogram2dcontour\",\"colorbar\":{\"outlinewidth\":0,\"ticks\":\"\"},\"colorscale\":[[0.0,\"#0d0887\"],[0.1111111111111111,\"#46039f\"],[0.2222222222222222,\"#7201a8\"],[0.3333333333333333,\"#9c179e\"],[0.4444444444444444,\"#bd3786\"],[0.5555555555555556,\"#d8576b\"],[0.6666666666666666,\"#ed7953\"],[0.7777777777777778,\"#fb9f3a\"],[0.8888888888888888,\"#fdca26\"],[1.0,\"#f0f921\"]]}],\"choropleth\":[{\"type\":\"choropleth\",\"colorbar\":{\"outlinewidth\":0,\"ticks\":\"\"}}],\"histogram2d\":[{\"type\":\"histogram2d\",\"colorbar\":{\"outlinewidth\":0,\"ticks\":\"\"},\"colorscale\":[[0.0,\"#0d0887\"],[0.1111111111111111,\"#46039f\"],[0.2222222222222222,\"#7201a8\"],[0.3333333333333333,\"#9c179e\"],[0.4444444444444444,\"#bd3786\"],[0.5555555555555556,\"#d8576b\"],[0.6666666666666666,\"#ed7953\"],[0.7777777777777778,\"#fb9f3a\"],[0.8888888888888888,\"#fdca26\"],[1.0,\"#f0f921\"]]}],\"heatmap\":[{\"type\":\"heatmap\",\"colorbar\":{\"outlinewidth\":0,\"ticks\":\"\"},\"colorscale\":[[0.0,\"#0d0887\"],[0.1111111111111111,\"#46039f\"],[0.2222222222222222,\"#7201a8\"],[0.3333333333333333,\"#9c179e\"],[0.4444444444444444,\"#bd3786\"],[0.5555555555555556,\"#d8576b\"],[0.6666666666666666,\"#ed7953\"],[0.7777777777777778,\"#fb9f3a\"],[0.8888888888888888,\"#fdca26\"],[1.0,\"#f0f921\"]]}],\"heatmapgl\":[{\"type\":\"heatmapgl\",\"colorbar\":{\"outlinewidth\":0,\"ticks\":\"\"},\"colorscale\":[[0.0,\"#0d0887\"],[0.1111111111111111,\"#46039f\"],[0.2222222222222222,\"#7201a8\"],[0.3333333333333333,\"#9c179e\"],[0.4444444444444444,\"#bd3786\"],[0.5555555555555556,\"#d8576b\"],[0.6666666666666666,\"#ed7953\"],[0.7777777777777778,\"#fb9f3a\"],[0.8888888888888888,\"#fdca26\"],[1.0,\"#f0f921\"]]}],\"contourcarpet\":[{\"type\":\"contourcarpet\",\"colorbar\":{\"outlinewidth\":0,\"ticks\":\"\"}}],\"contour\":[{\"type\":\"contour\",\"colorbar\":{\"outlinewidth\":0,\"ticks\":\"\"},\"colorscale\":[[0.0,\"#0d0887\"],[0.1111111111111111,\"#46039f\"],[0.2222222222222222,\"#7201a8\"],[0.3333333333333333,\"#9c179e\"],[0.4444444444444444,\"#bd3786\"],[0.5555555555555556,\"#d8576b\"],[0.6666666666666666,\"#ed7953\"],[0.7777777777777778,\"#fb9f3a\"],[0.8888888888888888,\"#fdca26\"],[1.0,\"#f0f921\"]]}],\"surface\":[{\"type\":\"surface\",\"colorbar\":{\"outlinewidth\":0,\"ticks\":\"\"},\"colorscale\":[[0.0,\"#0d0887\"],[0.1111111111111111,\"#46039f\"],[0.2222222222222222,\"#7201a8\"],[0.3333333333333333,\"#9c179e\"],[0.4444444444444444,\"#bd3786\"],[0.5555555555555556,\"#d8576b\"],[0.6666666666666666,\"#ed7953\"],[0.7777777777777778,\"#fb9f3a\"],[0.8888888888888888,\"#fdca26\"],[1.0,\"#f0f921\"]]}],\"mesh3d\":[{\"type\":\"mesh3d\",\"colorbar\":{\"outlinewidth\":0,\"ticks\":\"\"}}],\"scatter\":[{\"fillpattern\":{\"fillmode\":\"overlay\",\"size\":10,\"solidity\":0.2},\"type\":\"scatter\"}],\"parcoords\":[{\"type\":\"parcoords\",\"line\":{\"colorbar\":{\"outlinewidth\":0,\"ticks\":\"\"}}}],\"scatterpolargl\":[{\"type\":\"scatterpolargl\",\"marker\":{\"colorbar\":{\"outlinewidth\":0,\"ticks\":\"\"}}}],\"bar\":[{\"error_x\":{\"color\":\"#2a3f5f\"},\"error_y\":{\"color\":\"#2a3f5f\"},\"marker\":{\"line\":{\"color\":\"#E5ECF6\",\"width\":0.5},\"pattern\":{\"fillmode\":\"overlay\",\"size\":10,\"solidity\":0.2}},\"type\":\"bar\"}],\"scattergeo\":[{\"type\":\"scattergeo\",\"marker\":{\"colorbar\":{\"outlinewidth\":0,\"ticks\":\"\"}}}],\"scatterpolar\":[{\"type\":\"scatterpolar\",\"marker\":{\"colorbar\":{\"outlinewidth\":0,\"ticks\":\"\"}}}],\"histogram\":[{\"marker\":{\"pattern\":{\"fillmode\":\"overlay\",\"size\":10,\"solidity\":0.2}},\"type\":\"histogram\"}],\"scattergl\":[{\"type\":\"scattergl\",\"marker\":{\"colorbar\":{\"outlinewidth\":0,\"ticks\":\"\"}}}],\"scatter3d\":[{\"type\":\"scatter3d\",\"line\":{\"colorbar\":{\"outlinewidth\":0,\"ticks\":\"\"}},\"marker\":{\"colorbar\":{\"outlinewidth\":0,\"ticks\":\"\"}}}],\"scattermapbox\":[{\"type\":\"scattermapbox\",\"marker\":{\"colorbar\":{\"outlinewidth\":0,\"ticks\":\"\"}}}],\"scatterternary\":[{\"type\":\"scatterternary\",\"marker\":{\"colorbar\":{\"outlinewidth\":0,\"ticks\":\"\"}}}],\"scattercarpet\":[{\"type\":\"scattercarpet\",\"marker\":{\"colorbar\":{\"outlinewidth\":0,\"ticks\":\"\"}}}],\"carpet\":[{\"aaxis\":{\"endlinecolor\":\"#2a3f5f\",\"gridcolor\":\"white\",\"linecolor\":\"white\",\"minorgridcolor\":\"white\",\"startlinecolor\":\"#2a3f5f\"},\"baxis\":{\"endlinecolor\":\"#2a3f5f\",\"gridcolor\":\"white\",\"linecolor\":\"white\",\"minorgridcolor\":\"white\",\"startlinecolor\":\"#2a3f5f\"},\"type\":\"carpet\"}],\"table\":[{\"cells\":{\"fill\":{\"color\":\"#EBF0F8\"},\"line\":{\"color\":\"white\"}},\"header\":{\"fill\":{\"color\":\"#C8D4E3\"},\"line\":{\"color\":\"white\"}},\"type\":\"table\"}],\"barpolar\":[{\"marker\":{\"line\":{\"color\":\"#E5ECF6\",\"width\":0.5},\"pattern\":{\"fillmode\":\"overlay\",\"size\":10,\"solidity\":0.2}},\"type\":\"barpolar\"}],\"pie\":[{\"automargin\":true,\"type\":\"pie\"}]},\"layout\":{\"autotypenumbers\":\"strict\",\"colorway\":[\"#636efa\",\"#EF553B\",\"#00cc96\",\"#ab63fa\",\"#FFA15A\",\"#19d3f3\",\"#FF6692\",\"#B6E880\",\"#FF97FF\",\"#FECB52\"],\"font\":{\"color\":\"#2a3f5f\"},\"hovermode\":\"closest\",\"hoverlabel\":{\"align\":\"left\"},\"paper_bgcolor\":\"white\",\"plot_bgcolor\":\"#E5ECF6\",\"polar\":{\"bgcolor\":\"#E5ECF6\",\"angularaxis\":{\"gridcolor\":\"white\",\"linecolor\":\"white\",\"ticks\":\"\"},\"radialaxis\":{\"gridcolor\":\"white\",\"linecolor\":\"white\",\"ticks\":\"\"}},\"ternary\":{\"bgcolor\":\"#E5ECF6\",\"aaxis\":{\"gridcolor\":\"white\",\"linecolor\":\"white\",\"ticks\":\"\"},\"baxis\":{\"gridcolor\":\"white\",\"linecolor\":\"white\",\"ticks\":\"\"},\"caxis\":{\"gridcolor\":\"white\",\"linecolor\":\"white\",\"ticks\":\"\"}},\"coloraxis\":{\"colorbar\":{\"outlinewidth\":0,\"ticks\":\"\"}},\"colorscale\":{\"sequential\":[[0.0,\"#0d0887\"],[0.1111111111111111,\"#46039f\"],[0.2222222222222222,\"#7201a8\"],[0.3333333333333333,\"#9c179e\"],[0.4444444444444444,\"#bd3786\"],[0.5555555555555556,\"#d8576b\"],[0.6666666666666666,\"#ed7953\"],[0.7777777777777778,\"#fb9f3a\"],[0.8888888888888888,\"#fdca26\"],[1.0,\"#f0f921\"]],\"sequentialminus\":[[0.0,\"#0d0887\"],[0.1111111111111111,\"#46039f\"],[0.2222222222222222,\"#7201a8\"],[0.3333333333333333,\"#9c179e\"],[0.4444444444444444,\"#bd3786\"],[0.5555555555555556,\"#d8576b\"],[0.6666666666666666,\"#ed7953\"],[0.7777777777777778,\"#fb9f3a\"],[0.8888888888888888,\"#fdca26\"],[1.0,\"#f0f921\"]],\"diverging\":[[0,\"#8e0152\"],[0.1,\"#c51b7d\"],[0.2,\"#de77ae\"],[0.3,\"#f1b6da\"],[0.4,\"#fde0ef\"],[0.5,\"#f7f7f7\"],[0.6,\"#e6f5d0\"],[0.7,\"#b8e186\"],[0.8,\"#7fbc41\"],[0.9,\"#4d9221\"],[1,\"#276419\"]]},\"xaxis\":{\"gridcolor\":\"white\",\"linecolor\":\"white\",\"ticks\":\"\",\"title\":{\"standoff\":15},\"zerolinecolor\":\"white\",\"automargin\":true,\"zerolinewidth\":2},\"yaxis\":{\"gridcolor\":\"white\",\"linecolor\":\"white\",\"ticks\":\"\",\"title\":{\"standoff\":15},\"zerolinecolor\":\"white\",\"automargin\":true,\"zerolinewidth\":2},\"scene\":{\"xaxis\":{\"backgroundcolor\":\"#E5ECF6\",\"gridcolor\":\"white\",\"linecolor\":\"white\",\"showbackground\":true,\"ticks\":\"\",\"zerolinecolor\":\"white\",\"gridwidth\":2},\"yaxis\":{\"backgroundcolor\":\"#E5ECF6\",\"gridcolor\":\"white\",\"linecolor\":\"white\",\"showbackground\":true,\"ticks\":\"\",\"zerolinecolor\":\"white\",\"gridwidth\":2},\"zaxis\":{\"backgroundcolor\":\"#E5ECF6\",\"gridcolor\":\"white\",\"linecolor\":\"white\",\"showbackground\":true,\"ticks\":\"\",\"zerolinecolor\":\"white\",\"gridwidth\":2}},\"shapedefaults\":{\"line\":{\"color\":\"#2a3f5f\"}},\"annotationdefaults\":{\"arrowcolor\":\"#2a3f5f\",\"arrowhead\":0,\"arrowwidth\":1},\"geo\":{\"bgcolor\":\"white\",\"landcolor\":\"#E5ECF6\",\"subunitcolor\":\"white\",\"showland\":true,\"showlakes\":true,\"lakecolor\":\"white\"},\"title\":{\"x\":0.05},\"mapbox\":{\"style\":\"light\"}}}},                        {\"responsive\": true}                    ).then(function(){\n",
       "                            \n",
       "var gd = document.getElementById('a6414509-5886-4919-9977-43c0b34273d1');\n",
       "var x = new MutationObserver(function (mutations, observer) {{\n",
       "        var display = window.getComputedStyle(gd).display;\n",
       "        if (!display || display === 'none') {{\n",
       "            console.log([gd, 'removed!']);\n",
       "            Plotly.purge(gd);\n",
       "            observer.disconnect();\n",
       "        }}\n",
       "}});\n",
       "\n",
       "// Listen for the removal of the full notebook cells\n",
       "var notebookContainer = gd.closest('#notebook-container');\n",
       "if (notebookContainer) {{\n",
       "    x.observe(notebookContainer, {childList: true});\n",
       "}}\n",
       "\n",
       "// Listen for the clearing of the current output cell\n",
       "var outputEl = gd.closest('.output');\n",
       "if (outputEl) {{\n",
       "    x.observe(outputEl, {childList: true});\n",
       "}}\n",
       "\n",
       "                        })                };                });            </script>        </div>"
      ]
     },
     "metadata": {},
     "output_type": "display_data"
    }
   ],
   "source": [
    "import plotly.graph_objs as go\n",
    "\n",
    "# Set the positions of the nodes using a circular layout\n",
    "pos = nx.circular_layout(G)\n",
    "\n",
    "# Define the nodes and edges as scatter and line traces\n",
    "node_trace = go.Scatter(x=[], y=[], text=[], mode='markers+text', textposition='top center',\n",
    "                        hoverinfo='text', marker=dict(color='lightblue', size=30))\n",
    "edge_trace = go.Scatter(x=[], y=[], line=dict(width=1, color='grey'), mode='lines',\n",
    "                        hoverinfo='none')\n",
    "\n",
    "# Loop through the nodes and edges and add them to the traces\n",
    "for node in G.nodes():\n",
    "    x, y = pos[node]\n",
    "    node_trace['x'] += tuple([x])\n",
    "    node_trace['y'] += tuple([y])\n",
    "    node_trace['text'] += tuple([node])\n",
    "for edge in G.edges():\n",
    "    x0, y0 = pos[edge[0]]\n",
    "    x1, y1 = pos[edge[1]]\n",
    "    edge_trace['x'] += tuple([x0, x1, None])\n",
    "    edge_trace['y'] += tuple([y0, y1, None])\n",
    "\n",
    "# Define the layout and add the traces to the figure\n",
    "layout = go.Layout(title='The White Lotus Network', titlefont_size=16, showlegend=False,\n",
    "                   hovermode='closest', margin=dict(b=20, l=5, r=5, t=40))\n",
    "fig = go.Figure(data=[edge_trace, node_trace], layout=layout)\n",
    "\n",
    "# Show the plot\n",
    "fig.show()\n"
   ]
  },
  {
   "cell_type": "code",
   "execution_count": 28,
   "id": "6eed4c6f",
   "metadata": {},
   "outputs": [],
   "source": [
    "# Manually add missed edges\n",
    "\n",
    "G.add_edge('RACHEL', 'NICOLE')\n",
    "# G.remove_edge('RACHEL', 'NICOLE')"
   ]
  },
  {
   "cell_type": "code",
   "execution_count": 29,
   "id": "0de1efe4",
   "metadata": {},
   "outputs": [
    {
     "data": {
      "text/plain": [
       "OutEdgeDataView([('RACHEL', 'SHANE'), ('RACHEL', 'TANYA'), ('RACHEL', 'BELINDA'), ('RACHEL', 'MOTHER'), ('RACHEL', 'NICOLE')])"
      ]
     },
     "execution_count": 29,
     "metadata": {},
     "output_type": "execute_result"
    }
   ],
   "source": [
    "G.edges('RACHEL')"
   ]
  },
  {
   "cell_type": "code",
   "execution_count": null,
   "id": "b0719c73",
   "metadata": {},
   "outputs": [],
   "source": []
  },
  {
   "cell_type": "code",
   "execution_count": null,
   "id": "16aa8d0f",
   "metadata": {},
   "outputs": [],
   "source": []
  },
  {
   "cell_type": "code",
   "execution_count": null,
   "id": "12a7e5cc",
   "metadata": {},
   "outputs": [],
   "source": []
  },
  {
   "cell_type": "code",
   "execution_count": null,
   "id": "ced9b1c7",
   "metadata": {},
   "outputs": [],
   "source": []
  },
  {
   "cell_type": "code",
   "execution_count": null,
   "id": "400ad0e1",
   "metadata": {},
   "outputs": [],
   "source": []
  },
  {
   "cell_type": "code",
   "execution_count": null,
   "id": "4cf1a955",
   "metadata": {},
   "outputs": [],
   "source": []
  },
  {
   "cell_type": "code",
   "execution_count": null,
   "id": "0444d935",
   "metadata": {},
   "outputs": [],
   "source": []
  },
  {
   "cell_type": "code",
   "execution_count": null,
   "id": "ef32506c",
   "metadata": {},
   "outputs": [],
   "source": []
  },
  {
   "cell_type": "code",
   "execution_count": null,
   "id": "170f7c73",
   "metadata": {},
   "outputs": [],
   "source": []
  },
  {
   "cell_type": "code",
   "execution_count": null,
   "id": "33f29fe8",
   "metadata": {},
   "outputs": [],
   "source": [
    "# Read single txt file.\n",
    "\n",
    "import networkx as nx\n",
    "import re\n",
    "\n",
    "# Initialize a directed graph\n",
    "G = nx.DiGraph()\n",
    "\n",
    "# Open the script file and read the lines\n",
    "with open('white_lotus/1.txt', 'r', encoding='utf-8') as f:\n",
    "    lines = f.readlines()\n",
    "\n",
    "# Loop through the lines and extract the speaker information\n",
    "for i in range(len(lines)):\n",
    "    line = lines[i].strip()\n",
    "    \n",
    "    # Check if the line is a dialogue line\n",
    "    if re.match('^[A-Z]+:', line):\n",
    "        # Extract the speaker and the dialogue\n",
    "        speaker, dialogue = re.findall('^([A-Z]+): (.+)$', line)[0]\n",
    "        \n",
    "        # Add the speaker as a node if it doesn't exist already\n",
    "        if not G.has_node(speaker):\n",
    "            G.add_node(speaker)\n",
    "        \n",
    "        # Check the next few lines to see who responds to the speaker\n",
    "        for j in range(i+1, min(i+4, len(lines))):\n",
    "            next_line = lines[j].strip()\n",
    "            if re.match('^[A-Z]+:', next_line):\n",
    "                next_speaker = re.findall('^([A-Z]+):', next_line)[0]\n",
    "                # Add an edge from the speaker to the responder\n",
    "                if next_speaker != speaker:\n",
    "                    G.add_edge(speaker, next_speaker)\n",
    "                break\n",
    "\n",
    "# Print the nodes and edges in the graph\n",
    "print('Nodes:', G.nodes())\n",
    "print('Edges:', G.edges())\n"
   ]
  },
  {
   "cell_type": "code",
   "execution_count": null,
   "id": "65b0dd4e",
   "metadata": {},
   "outputs": [],
   "source": [
    "import matplotlib.pyplot as plt\n",
    "\n",
    "# Set the positions of the nodes using a circular layout\n",
    "pos = nx.circular_layout(G)\n",
    "\n",
    "# Draw the nodes and labels\n",
    "nx.draw_networkx_nodes(G, pos, node_color='lightblue', node_size=500)\n",
    "nx.draw_networkx_labels(G, pos, font_size=12, font_family='Arial')\n",
    "\n",
    "# Draw the edges\n",
    "nx.draw_networkx_edges(G, pos, width=1, alpha=0.5, edge_color='grey', arrowsize=10)\n",
    "\n",
    "# Show the plot\n",
    "plt.axis('off')\n",
    "plt.show()\n"
   ]
  },
  {
   "cell_type": "code",
   "execution_count": null,
   "id": "a665b462",
   "metadata": {},
   "outputs": [],
   "source": [
    "G.edges()"
   ]
  },
  {
   "cell_type": "code",
   "execution_count": null,
   "id": "549c10c5",
   "metadata": {},
   "outputs": [],
   "source": []
  },
  {
   "cell_type": "code",
   "execution_count": null,
   "id": "b6c7a9f4",
   "metadata": {},
   "outputs": [],
   "source": []
  },
  {
   "cell_type": "code",
   "execution_count": null,
   "id": "b9ef868e",
   "metadata": {},
   "outputs": [],
   "source": []
  }
 ],
 "metadata": {
  "kernelspec": {
   "display_name": "Python 3 (ipykernel)",
   "language": "python",
   "name": "python3"
  },
  "language_info": {
   "codemirror_mode": {
    "name": "ipython",
    "version": 3
   },
   "file_extension": ".py",
   "mimetype": "text/x-python",
   "name": "python",
   "nbconvert_exporter": "python",
   "pygments_lexer": "ipython3",
   "version": "3.10.8"
  }
 },
 "nbformat": 4,
 "nbformat_minor": 5
}

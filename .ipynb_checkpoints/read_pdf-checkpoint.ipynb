{
 "cells": [
  {
   "cell_type": "markdown",
   "id": "86aa9d80",
   "metadata": {},
   "source": [
    "# Create scripts as txt files\n",
    "Read episode scripts from pdf files and create txt files."
   ]
  },
  {
   "cell_type": "code",
   "execution_count": 9,
   "id": "28430f58",
   "metadata": {},
   "outputs": [],
   "source": [
    "# Read single file and convert to txt.\n",
    "\n",
    "import PyPDF2\n",
    "\n",
    "# Open the PDF file in read-binary mode\n",
    "pdf_file = open('BL01x01.pdf', 'rb')\n",
    "\n",
    "# Create a PDF reader object\n",
    "pdf_reader = PyPDF2.PdfReader(pdf_file)\n",
    "\n",
    "# Create an empty string to hold the extracted text\n",
    "text = ''\n",
    "\n",
    "# Loop over each page in the PDF\n",
    "for page_num in range(len(pdf_reader.pages)):\n",
    "    # Get the page object\n",
    "    page = pdf_reader.pages[page_num]\n",
    "    \n",
    "    # Extract the text from the page\n",
    "    page_text = page.extract_text()\n",
    "    \n",
    "    # Append the text from this page to the overall text string\n",
    "    text += page_text\n",
    "\n",
    "# Close the PDF file\n",
    "pdf_file.close()\n",
    "\n",
    "# Write the extracted text to a new file\n",
    "with open('output.txt', 'w') as output_file:\n",
    "    output_file.write(text)\n"
   ]
  },
  {
   "cell_type": "code",
   "execution_count": 5,
   "id": "bebde406",
   "metadata": {},
   "outputs": [],
   "source": [
    "#Read as batch and convert to txt.\n",
    "\n",
    "import os\n",
    "import PyPDF2\n",
    "\n",
    "# Set the path of the input and output folders\n",
    "# input_folder = './input_folder'\n",
    "# output_folder = './output_folder'\n",
    "\n",
    "input_folder = 'pdf_script'\n",
    "output_folder = 'pdf_script/txt_script'\n",
    "\n",
    "# Loop over each file in the input folder\n",
    "for filename in os.listdir(input_folder):\n",
    "    # Check if the file is a pdf file\n",
    "    if filename.endswith('.pdf'):\n",
    "        # Set the path of the input and output files\n",
    "        input_file = os.path.join(input_folder, filename)\n",
    "        output_file = os.path.join(output_folder, filename[:-4] + '.txt')\n",
    "        \n",
    "        # Open the PDF file in read-binary mode\n",
    "        pdf_file = open(input_file, 'rb')\n",
    "\n",
    "        # Create a PDF reader object\n",
    "        pdf_reader = PyPDF2.PdfReader(pdf_file)\n",
    "\n",
    "        # Create an empty string to hold the extracted text\n",
    "        text = ''\n",
    "\n",
    "        # Loop over each page in the PDF\n",
    "        for page_num in range(len(pdf_reader.pages)):\n",
    "            # Get the page object\n",
    "            page = pdf_reader.pages[page_num]\n",
    "\n",
    "            # Extract the text from the page\n",
    "            page_text = page.extract_text()\n",
    "\n",
    "            # Append the text from this page to the overall text string\n",
    "            text += page_text\n",
    "\n",
    "        # Close the PDF file\n",
    "        pdf_file.close()\n",
    "\n",
    "        # Write the extracted text to a new file\n",
    "        with open(output_file, 'w') as output_file:\n",
    "            output_file.write(text)\n"
   ]
  },
  {
   "cell_type": "code",
   "execution_count": null,
   "id": "e0af8ca4",
   "metadata": {},
   "outputs": [],
   "source": []
  }
 ],
 "metadata": {
  "kernelspec": {
   "display_name": "Python 3 (ipykernel)",
   "language": "python",
   "name": "python3"
  },
  "language_info": {
   "codemirror_mode": {
    "name": "ipython",
    "version": 3
   },
   "file_extension": ".py",
   "mimetype": "text/x-python",
   "name": "python",
   "nbconvert_exporter": "python",
   "pygments_lexer": "ipython3",
   "version": "3.10.8"
  }
 },
 "nbformat": 4,
 "nbformat_minor": 5
}

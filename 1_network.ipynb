{
 "cells": [
  {
   "cell_type": "markdown",
   "id": "465260de",
   "metadata": {},
   "source": [
    "# Step 1\n",
    "- Create network of characters\n",
    "- Calculate centrality measures\n",
    "- Detect communities"
   ]
  },
  {
   "cell_type": "code",
   "execution_count": 33,
   "id": "b489982d",
   "metadata": {},
   "outputs": [],
   "source": [
    "import pandas as pd\n",
    "import numpy as np\n",
    "import networkx as nx\n",
    "import matplotlib.pyplot as plt\n",
    "import matplotlib.font_manager as fm\n",
    "from matplotlib import rcParams\n",
    "from pyvis.network import Network"
   ]
  },
  {
   "cell_type": "code",
   "execution_count": 34,
   "id": "9a61be83",
   "metadata": {},
   "outputs": [],
   "source": [
    "# SET VIZ TEMPLATE\n",
    "# colors\n",
    "YELLOW='yellow'\n",
    "BLACK='#1a1a1a'\n",
    "GREY='#696969'\n",
    "WHITE='white'\n",
    "\n",
    "# fonts\n",
    "futura_font_path = 'graphfonts/Futura/futura-medium-condensed.ttf'\n",
    "FUTURA = fm.FontProperties(fname=futura_font_path)\n",
    "\n",
    "paypal_font_path = 'graphfonts/Paypal/PayPalSansSmall-Regular.ttf'\n",
    "PAYPAL = fm.FontProperties(fname=paypal_font_path)\n",
    "\n",
    "DPI=200"
   ]
  },
  {
   "cell_type": "code",
   "execution_count": 35,
   "id": "4e927d76",
   "metadata": {},
   "outputs": [],
   "source": [
    "sheets = ['episode1', 'episode2', 'episode3', 'episode4', 'episode5', 'episode6']\n",
    "data = pd.concat([pd.read_excel('data.xlsx', sheet_name = sheet) for sheet in sheets])\n",
    "data"
   ]
  },
  {
   "cell_type": "code",
   "execution_count": 36,
   "id": "07225808",
   "metadata": {},
   "outputs": [],
   "source": [
    "# clean data\n",
    "df = (data\n",
    " .assign(sorted_pairs=lambda df_: df_.apply(lambda df_: '-'.join(sorted([df_['initiator'], df_['responder']])), axis=1))\n",
    " .assign(weight=lambda df_: df_.groupby(['sorted_pairs'])['sorted_pairs'].transform('count'))\n",
    " .assign(dialogue=lambda df_: df_.groupby(['sorted_pairs'])['dialogue'].transform(lambda df_: ' '.join(df_.unique())))\n",
    " .drop_duplicates('sorted_pairs')\n",
    " .drop(columns='sorted_pairs')\n",
    ")\n",
    "df"
   ]
  },
  {
   "cell_type": "code",
   "execution_count": 37,
   "id": "5d8e1477",
   "metadata": {},
   "outputs": [],
   "source": [
    "# create network\n",
    "G = nx.from_pandas_edgelist(df, source='initiator', target='responder', edge_attr=['dialogue', 'weight'])"
   ]
  },
  {
   "cell_type": "code",
   "execution_count": 38,
   "id": "873c1a9e",
   "metadata": {},
   "outputs": [],
   "source": [
    "# show nodes in network\n",
    "G.nodes"
   ]
  },
  {
   "cell_type": "code",
   "execution_count": 39,
   "id": "ca31ed81",
   "metadata": {},
   "outputs": [],
   "source": [
    "# show edges\n",
    "G.edges"
   ]
  },
  {
   "cell_type": "code",
   "execution_count": 40,
   "id": "7ad22d10",
   "metadata": {},
   "outputs": [],
   "source": [
    "# count edges\n",
    "len(G.edges)"
   ]
  },
  {
   "cell_type": "code",
   "execution_count": 41,
   "id": "a2cf5c95",
   "metadata": {},
   "outputs": [],
   "source": [
    "# see network\n",
    "net = Network(notebook=True, cdn_resources='remote', width='1000px', height='700px', bgcolor=BLACK, font_color=YELLOW)\n",
    "\n",
    "node_degree = dict(G.degree)\n",
    "\n",
    "# set node size attribute\n",
    "nx.set_node_attributes(G, node_degree, 'size')\n",
    "\n",
    "net.from_nx(G)\n",
    "net.show('TWL.html')"
   ]
  },
  {
   "cell_type": "markdown",
   "id": "b3fec239",
   "metadata": {},
   "source": [
    "# Centrality Measures"
   ]
  },
  {
   "cell_type": "code",
   "execution_count": 42,
   "id": "e2db2359",
   "metadata": {},
   "outputs": [],
   "source": [
    "# show degree centrality\n",
    "degree_df = pd.DataFrame.from_dict(nx.degree_centrality(G), orient='index', columns=['degree']).sort_values('degree', ascending=True)\n",
    "degree_df"
   ]
  },
  {
   "cell_type": "code",
   "execution_count": 43,
   "id": "f4deaf22",
   "metadata": {},
   "outputs": [],
   "source": [
    "# plot degree distribution\n",
    "fig, (ax1, ax2) = plt.subplots(nrows=1, ncols=2, figsize=(10, 4), facecolor=BLACK, dpi=DPI)\n",
    "ax1.tick_params(axis='both', colors=YELLOW, labelsize=10)\n",
    "ax1.set_facecolor(BLACK)\n",
    "ax1.set_title('Empirical Cumulative Distribution Function', fontproperties=FUTURA, color=WHITE)\n",
    "ax1.set_xlabel('Value', fontproperties=PAYPAL, color=WHITE, fontsize=8)\n",
    "ax1.set_ylabel('Probability (at or below value)', fontproperties=PAYPAL, color=WHITE, fontsize=8)\n",
    "\n",
    "ax2.tick_params(axis='both', colors=YELLOW, labelsize=10)\n",
    "ax2.set_facecolor(BLACK)\n",
    "ax2.set_title('Histogram', fontproperties=FUTURA, color=WHITE)\n",
    "ax2.set_xlabel('Value', fontproperties=PAYPAL, color=WHITE, fontsize=8)\n",
    "ax2.set_ylabel('Density', fontproperties=PAYPAL, color=WHITE, fontsize=8)\n",
    "\n",
    "for label in ax1.get_xticklabels()+ax2.get_xticklabels():\n",
    "    label.set_fontproperties(PAYPAL)\n",
    "    label.set_fontsize(10)\n",
    "    label.set_color(YELLOW)\n",
    "\n",
    "for label in ax1.get_yticklabels():\n",
    "    label.set_fontproperties(PAYPAL)\n",
    "    label.set_fontsize(10)\n",
    "    label.set_color(YELLOW)\n",
    "\n",
    "for label in ax2.get_yticklabels():\n",
    "    label.set_fontproperties(PAYPAL)\n",
    "    label.set_fontsize(10)\n",
    "    label.set_color(YELLOW)\n",
    "\n",
    "# set spine color\n",
    "for ax in [ax1, ax2]:\n",
    "    ax.spines['bottom'].set_color(WHITE)\n",
    "    ax.spines['left'].set_color(WHITE)\n",
    "\n",
    "# Set the visibility of the spines on the top and left to off\n",
    "for ax in [ax1, ax2]:\n",
    "    ax.spines['top'].set_visible(False)\n",
    "    ax.spines['right'].set_visible(False)\n",
    "\n",
    "# Calculate the ECDF and plot it on the left subplot\n",
    "x = np.sort(degree_df)\n",
    "y = np.arange(1, len(degree_df)+1) / len(degree_df)\n",
    "ax1.plot(x, y, marker='h', linestyle='none', color=YELLOW)\n",
    "\n",
    "# Plot the histogram on the right subplot\n",
    "ax2.hist(degree_df, bins=10, density=True, color=YELLOW)\n",
    "\n",
    "# Add a centered supertitle to represent both plots\n",
    "fig.suptitle('Distribution of node degree', fontsize=18, fontweight='bold', fontproperties=FUTURA, color=WHITE, y=1.05)\n",
    "\n",
    "# Show the plot\n",
    "plt.show()"
   ]
  },
  {
   "cell_type": "markdown",
   "id": "3aba4c92",
   "metadata": {},
   "source": [
    "ECDF stands for Empirical Cumulative Distribution Function. It is a non-parametric estimator of the cumulative distribution function (CDF) of a random variable based on a sample of the data.\n",
    "\n",
    "To construct the ECDF, we first sort the observations in our sample from smallest to largest. Then, for each observation, we calculate the proportion of the observations that are less than or equal to it, which gives us the cumulative probability of that observation. Finally, we plot these cumulative probabilities against the sorted observations to create the ECDF.\n",
    "\n",
    "The ECDF is a useful tool for visualizing the distribution of a dataset, especially when we don't know the underlying distribution of the data. It provides a way to estimate the probability of observing a value less than or equal to a particular value in the data, which can be used for statistical inference, hypothesis testing, and model selection."
   ]
  },
  {
   "cell_type": "code",
   "execution_count": 44,
   "id": "7e58315c",
   "metadata": {},
   "outputs": [],
   "source": [
    "def plot_bar(df, sort_value, title):\n",
    "    fig, ax = plt.subplots(figsize=(4,3), dpi=DPI, facecolor=BLACK)\n",
    "\n",
    "    plt.title(title, fontproperties=FUTURA, color=WHITE, fontsize=9)\n",
    "\n",
    "    ax.set_facecolor(BLACK)\n",
    "\n",
    "    for label in ax.get_xticklabels():\n",
    "        label.set_fontproperties(PAYPAL)\n",
    "        label.set_fontsize(7)\n",
    "        label.set_color(WHITE)\n",
    "\n",
    "    for label in ax.get_yticklabels():\n",
    "        label.set_fontproperties(FUTURA)\n",
    "        label.set_fontsize(5.5)\n",
    "        label.set_color(WHITE)\n",
    "        \n",
    "    for side in 'bottom,left'.split(','):\n",
    "        ax.spines[side].set_edgecolor(WHITE)\n",
    "        \n",
    "    for side in 'top,right'.split(','):\n",
    "        ax.spines[side].set_visible(False)\n",
    "\n",
    "    plot = df.sort_values(sort_value, ascending=False)[0:10].plot.barh(ax=ax, legend=False, color=YELLOW)\n",
    "\n",
    "    for i, value in enumerate(df.sort_values(sort_value, ascending=False)[0:10][sort_value]):\n",
    "        ax.text(value, i, str(round(value,2)), fontproperties=PAYPAL, color=WHITE, va='center', fontsize=5.5)\n",
    "\n",
    "    return plot\n",
    "\n",
    "plot_bar(degree_df, sort_value='degree', title='Degree centrality distribution (top 10)');"
   ]
  },
  {
   "cell_type": "code",
   "execution_count": 45,
   "id": "140ec711",
   "metadata": {},
   "outputs": [],
   "source": [
    "# show degree centrality\n",
    "closeness_df = pd.DataFrame.from_dict(nx.closeness_centrality(G), orient='index', columns=['closeness'])\n",
    "plot_bar(closeness_df, sort_value='closeness', title='Closeness centrality distribution (top 10)');"
   ]
  },
  {
   "cell_type": "code",
   "execution_count": 46,
   "id": "787a22fe",
   "metadata": {},
   "outputs": [],
   "source": [
    "# show betweeness centrality\n",
    "betweenness_df = pd.DataFrame.from_dict(nx.betweenness_centrality(G), orient='index', columns=['betweenness'])\n",
    "plot_bar(betweenness_df, sort_value='betweenness', title='Betweenness centrality distribution (top 10)');"
   ]
  },
  {
   "cell_type": "code",
   "execution_count": 47,
   "id": "77fabfbc",
   "metadata": {},
   "outputs": [],
   "source": [
    "# show eigenvector centrality\n",
    "eigenvector_df = pd.DataFrame.from_dict(nx.eigenvector_centrality(G), orient='index', columns=['eigenvector'])\n",
    "plot_bar(eigenvector_df, sort_value='eigenvector', title='Eigenvector centrality distribution (top 10)');"
   ]
  },
  {
   "cell_type": "markdown",
   "id": "65beaefe",
   "metadata": {},
   "source": [
    "# "
   ]
  },
  {
   "cell_type": "markdown",
   "id": "1bcdf8f6",
   "metadata": {},
   "source": [
    "# Clustering coefficient, average path length"
   ]
  },
  {
   "cell_type": "code",
   "execution_count": 48,
   "id": "0191021b",
   "metadata": {},
   "outputs": [],
   "source": [
    "# calculate average shortest path length (apl)\n",
    "apl = nx.average_shortest_path_length(G, weight='weight')\n",
    "apl"
   ]
  },
  {
   "cell_type": "code",
   "execution_count": 49,
   "id": "ef6e043d",
   "metadata": {},
   "outputs": [],
   "source": [
    "# calculate clustering coefficient (cc)\n",
    "cc = nx.clustering(G, weight='weight')\n",
    "cc"
   ]
  },
  {
   "cell_type": "code",
   "execution_count": 50,
   "id": "a8a02e01",
   "metadata": {},
   "outputs": [],
   "source": [
    "from tqdm import tqdm\n",
    "\n",
    "def average_path_length_disconnected(G):\n",
    "    connected_components = [G.subgraph(c) for c in nx.connected_components(G)]\n",
    "    avg_path_lengths = [nx.average_shortest_path_length(cc) for cc in connected_components]\n",
    "    overall_avg_path_length = sum(avg_path_lengths) / len(connected_components)\n",
    "    return overall_avg_path_length"
   ]
  },
  {
   "cell_type": "code",
   "execution_count": 51,
   "id": "3f6f7727",
   "metadata": {},
   "outputs": [],
   "source": [
    "nx.node_connected_component(G, 'NURSE')"
   ]
  },
  {
   "cell_type": "code",
   "execution_count": 52,
   "id": "7a659407",
   "metadata": {},
   "outputs": [],
   "source": [
    "small_world_measures = []\n",
    "\n",
    "for p in tqdm(range(0, 10, 1)):\n",
    "    p = p/10 # rewiring rate\n",
    "    small_world_graph = nx.watts_strogatz_graph(len(G.nodes), 6, p, seed=1)\n",
    "    cc = nx.average_clustering(small_world_graph)\n",
    "    apl = average_path_length_disconnected(small_world_graph)\n",
    "    small_world_measures.append([p, cc, apl])"
   ]
  },
  {
   "cell_type": "code",
   "execution_count": 53,
   "id": "ecb01d56",
   "metadata": {},
   "outputs": [],
   "source": [
    "small_world_measures"
   ]
  },
  {
   "cell_type": "code",
   "execution_count": 54,
   "id": "d0860741",
   "metadata": {},
   "outputs": [],
   "source": [
    "# Clustering coefficient\n",
    "plt.scatter([item[0] for item in small_world_measures], [item[1] for item in small_world_measures])\n",
    "plt.xlabel(\"p\")\n",
    "plt.ylabel(\"Clustering Coefficient\")\n",
    "plt.show()"
   ]
  },
  {
   "cell_type": "code",
   "execution_count": 55,
   "id": "c0b8a88d",
   "metadata": {},
   "outputs": [],
   "source": [
    "len(G.nodes)"
   ]
  },
  {
   "cell_type": "code",
   "execution_count": 56,
   "id": "ae08c2a2",
   "metadata": {},
   "outputs": [],
   "source": [
    "import networkx as nx\n",
    "\n",
    "# Load your network data as a NetworkX graph\n",
    "# G = nx.read_edgelist('your_network_data.edgelist')\n",
    "\n",
    "# Calculate the number of nodes and edges in the graph\n",
    "n = G.number_of_nodes()\n",
    "m = G.number_of_edges()\n",
    "\n",
    "# Calculate the average degree of the graph\n",
    "k = 2 * m / n\n",
    "\n",
    "# Generate a Watts-Strogatz graph with the same number of nodes, \n",
    "# the same average degree, and the same number of edges as the original graph\n",
    "p = 0.1  # Rewiring probability\n",
    "WS = nx.watts_strogatz_graph(n, int(k), p)\n",
    "\n",
    "# Calculate the clustering coefficient and average shortest path length of both graphs\n",
    "cc_orig = nx.average_clustering(G)\n",
    "cc_WS = nx.average_clustering(WS)\n",
    "l_orig = nx.average_shortest_path_length(G)\n",
    "l_WS = nx.average_shortest_path_length(WS)\n",
    "\n",
    "# Print the results\n",
    "print(f'Clustering coefficient of original graph: {cc_orig}')\n",
    "print(f'Clustering coefficient of Watts-Strogatz graph: {cc_WS}')\n",
    "print(f'Average shortest path length of original graph: {l_orig}')\n",
    "print(f'Average shortest path length of Watts-Strogatz graph: {l_WS}')\n",
    "\n",
    "# Check if the original graph has a higher clustering coefficient and similar average shortest path length \n",
    "# compared to the Watts-Strogatz graph, indicating a small world network\n",
    "if cc_orig > cc_WS and l_orig <= l_WS:\n",
    "    print('The graph may follow a small world network.')\n",
    "else:\n",
    "    print('The graph does not follow a small world network.')\n"
   ]
  },
  {
   "cell_type": "code",
   "execution_count": 57,
   "id": "d74cd252",
   "metadata": {},
   "outputs": [],
   "source": [
    "len(G.edges)"
   ]
  },
  {
   "cell_type": "code",
   "execution_count": 58,
   "id": "1f809341",
   "metadata": {},
   "outputs": [],
   "source": [
    "from tqdm import tqdm\n",
    "\n",
    "n = G.number_of_nodes()\n",
    "m = G.number_of_edges()\n",
    "\n",
    "# Calculate the average degree of the graph\n",
    "k = 2 * m / n\n",
    "\n",
    "small_world_measures = []\n",
    "\n",
    "for p in tqdm(range(0, 10, 1)):\n",
    "    p = p/10 # rewiring rate\n",
    "    small_world_graph = nx.watts_strogatz_graph(n, int(k), p, seed=1)\n",
    "    cc = nx.average_clustering(small_world_graph)\n",
    "    apl = nx.average_shortest_path_length(small_world_graph)\n",
    "    small_world_measures.append({'rewiring rate': p, 'clustering coefficient': cc, 'average path length': apl})\n",
    "\n",
    "small_world_measures\n"
   ]
  },
  {
   "cell_type": "code",
   "execution_count": 59,
   "id": "f212abff",
   "metadata": {},
   "outputs": [],
   "source": [
    "def plot_scatter(x, y, x_label, y_label):\n",
    "    fig, ax = plt.subplots(figsize=(3,2.5), dpi=DPI, facecolor=BLACK)\n",
    "    ax.tick_params(axis='both', colors=YELLOW, labelsize=10)\n",
    "\n",
    "    for label in ax.get_xticklabels() + ax.get_yticklabels():\n",
    "        label.set_fontproperties(PAYPAL)\n",
    "        label.set_fontsize(7)\n",
    "        label.set_color(YELLOW)\n",
    "\n",
    "    for side in 'bottom,left'.split(','):\n",
    "        ax.spines[side].set_edgecolor(WHITE)\n",
    "\n",
    "    for side in 'top,right'.split(','):\n",
    "        ax.spines[side].set_visible(False)\n",
    "\n",
    "    ax.set_facecolor(BLACK)\n",
    "    ax.scatter(x, y, c=YELLOW, s=12, marker='h')\n",
    "    ax.set_xlabel(x_label, fontproperties=PAYPAL, color=WHITE, fontsize=6)\n",
    "    ax.set_ylabel(y_label, fontproperties=PAYPAL, color=WHITE, fontsize=6)\n",
    "    plt.show()"
   ]
  },
  {
   "cell_type": "code",
   "execution_count": 60,
   "id": "c8f498ca",
   "metadata": {},
   "outputs": [],
   "source": [
    "# see if network looks like small world network    \n",
    "x = [item['rewiring rate'] for item in small_world_measures]\n",
    "y = [item['clustering coefficient'] for item in small_world_measures]\n",
    "plot_scatter(x, y, 'p', 'Clustering Coefficient')"
   ]
  },
  {
   "cell_type": "code",
   "execution_count": 61,
   "id": "f91a9e67",
   "metadata": {},
   "outputs": [],
   "source": [
    "plot_scatter(\n",
    "    [item['rewiring rate'] for item in small_world_measures],\n",
    "    [item['average path length'] for item in small_world_measures],\n",
    "    'p',\n",
    "    'Average Path Length'\n",
    ")"
   ]
  },
  {
   "cell_type": "markdown",
   "id": "e55af4a6",
   "metadata": {},
   "source": [
    "The network follows the small world network graph properties."
   ]
  },
  {
   "cell_type": "markdown",
   "id": "67b8e1e6",
   "metadata": {},
   "source": [
    "# Community detection"
   ]
  },
  {
   "cell_type": "code",
   "execution_count": 62,
   "id": "8a07acac",
   "metadata": {},
   "outputs": [],
   "source": [
    "import community as community_louvain\n",
    "\n",
    "# create communities\n",
    "communities = community_louvain.best_partition(G)\n",
    "\n",
    "# set communities as node\n",
    "nx.set_node_attributes(G, communities, 'group')\n",
    "\n",
    "# show network\n",
    "com_net = Network(notebook=True, width='1000px', height='700px', bgcolor=BLACK, font_color=YELLOW)\n",
    "com_net.from_nx(G)\n",
    "com_net.show('TWL_com.html')"
   ]
  },
  {
   "cell_type": "code",
   "execution_count": null,
   "id": "e1f1806d",
   "metadata": {},
   "outputs": [],
   "source": []
  }
 ],
 "metadata": {
  "kernelspec": {
   "display_name": "Python 3 (ipykernel)",
   "language": "python",
   "name": "python3"
  },
  "language_info": {
   "codemirror_mode": {
    "name": "ipython",
    "version": 3
   },
   "file_extension": ".py",
   "mimetype": "text/x-python",
   "name": "python",
   "nbconvert_exporter": "python",
   "pygments_lexer": "ipython3",
   "version": "3.10.8"
  }
 },
 "nbformat": 4,
 "nbformat_minor": 5
}
